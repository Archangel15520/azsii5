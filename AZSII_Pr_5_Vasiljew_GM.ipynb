{
  "nbformat": 4,
  "nbformat_minor": 0,
  "metadata": {
    "colab": {
      "provenance": []
    },
    "kernelspec": {
      "name": "python3",
      "display_name": "Python 3"
    },
    "language_info": {
      "name": "python"
    }
  },
  "cells": [
    {
      "cell_type": "markdown",
      "source": [
        "### Группа: ББМО-02-23\n",
        "### Студент: Васильев Григорий Максимович\n",
        "### Практика 5: Атака с ограниченной памятью (PGD - Projected Gradient Descent)"
      ],
      "metadata": {
        "id": "BUoPd6nalqFf"
      }
    },
    {
      "cell_type": "markdown",
      "source": [
        "**Цель задания:**\n",
        "Изучить одну из наиболее мощных атак на модели ИИ — атаку Projected Gradient Descent (PGD). Научиться использовать PGD для создания противоречивых примеров и оценить её влияние на обученные модели.\n",
        "\n",
        "**Задачи:**\n",
        "* Загрузить ранее обученную модель на датасете MNIST.\n",
        "* Изучить теоретические основы атаки PGD.\n",
        "* Реализовать атаку PGD с помощью фреймворка Foolbox.\n",
        "* Оценить точность модели на противоречивых примерах и сравнить с результатами на обычных данных."
      ],
      "metadata": {
        "id": "A4ez6vUzlDC3"
      }
    },
    {
      "cell_type": "markdown",
      "source": [
        "Обученную модель 'mnist_model.h5' для загрузки в код можно найти в репозитории перейдя по ссылке: https://github.com/Archangel15520/AZSII-REPO/blob/main/README.md"
      ],
      "metadata": {
        "id": "PH2FKwXKllX7"
      }
    },
    {
      "cell_type": "markdown",
      "source": [
        "**Теория атаки Projected Gradient Descent (PGD):**\n",
        "Атака Projected Gradient Descent (PGD) — это расширение FGSM (Fast Gradient Sign Method), где атака выполняется итеративно. На каждой итерации добавляются небольшие изменения к входным данным в направлении увеличения ошибки модели.\n",
        "\n",
        "После каждой итерации результат \"проецируется\" на допустимое пространство для ограничивания размера изменений, что позволяет сохранять противоречивый пример в пределах определенной нормы (например, L∞)."
      ],
      "metadata": {
        "id": "mw5zdb74kIbk"
      }
    },
    {
      "cell_type": "markdown",
      "source": [
        "**Установка необходимой библиотеки:**"
      ],
      "metadata": {
        "id": "zo_JXnplkNCW"
      }
    },
    {
      "cell_type": "code",
      "source": [
        "!pip install foolbox"
      ],
      "metadata": {
        "colab": {
          "base_uri": "https://localhost:8080/"
        },
        "id": "ydn5vzU2DBdc",
        "outputId": "a00d5e05-ca23-45b0-a09d-0b90cb97499d"
      },
      "execution_count": 8,
      "outputs": [
        {
          "output_type": "stream",
          "name": "stdout",
          "text": [
            "Requirement already satisfied: foolbox in /usr/local/lib/python3.10/dist-packages (3.3.4)\n",
            "Requirement already satisfied: numpy in /usr/local/lib/python3.10/dist-packages (from foolbox) (1.26.4)\n",
            "Requirement already satisfied: scipy in /usr/local/lib/python3.10/dist-packages (from foolbox) (1.13.1)\n",
            "Requirement already satisfied: setuptools in /usr/local/lib/python3.10/dist-packages (from foolbox) (75.1.0)\n",
            "Requirement already satisfied: eagerpy>=0.30.0 in /usr/local/lib/python3.10/dist-packages (from foolbox) (0.30.0)\n",
            "Requirement already satisfied: GitPython>=3.0.7 in /usr/local/lib/python3.10/dist-packages (from foolbox) (3.1.43)\n",
            "Requirement already satisfied: typing-extensions>=3.7.4.1 in /usr/local/lib/python3.10/dist-packages (from foolbox) (4.12.2)\n",
            "Requirement already satisfied: requests>=2.24.0 in /usr/local/lib/python3.10/dist-packages (from foolbox) (2.32.3)\n",
            "Requirement already satisfied: gitdb<5,>=4.0.1 in /usr/local/lib/python3.10/dist-packages (from GitPython>=3.0.7->foolbox) (4.0.11)\n",
            "Requirement already satisfied: charset-normalizer<4,>=2 in /usr/local/lib/python3.10/dist-packages (from requests>=2.24.0->foolbox) (3.4.0)\n",
            "Requirement already satisfied: idna<4,>=2.5 in /usr/local/lib/python3.10/dist-packages (from requests>=2.24.0->foolbox) (3.10)\n",
            "Requirement already satisfied: urllib3<3,>=1.21.1 in /usr/local/lib/python3.10/dist-packages (from requests>=2.24.0->foolbox) (2.2.3)\n",
            "Requirement already satisfied: certifi>=2017.4.17 in /usr/local/lib/python3.10/dist-packages (from requests>=2.24.0->foolbox) (2024.8.30)\n",
            "Requirement already satisfied: smmap<6,>=3.0.1 in /usr/local/lib/python3.10/dist-packages (from gitdb<5,>=4.0.1->GitPython>=3.0.7->foolbox) (5.0.1)\n"
          ]
        }
      ]
    },
    {
      "cell_type": "markdown",
      "source": [
        "**Загрузка обученной модели и данных MNIST**"
      ],
      "metadata": {
        "id": "WHmUm8Pmksf_"
      }
    },
    {
      "cell_type": "code",
      "execution_count": 11,
      "metadata": {
        "colab": {
          "base_uri": "https://localhost:8080/"
        },
        "id": "EiBjDy8k-9yU",
        "outputId": "6f521994-2696-4911-bee3-5b3ffdcd3fcc"
      },
      "outputs": [
        {
          "output_type": "stream",
          "name": "stderr",
          "text": [
            "WARNING:absl:Compiled the loaded model, but the compiled metrics have yet to be built. `model.compile_metrics` will be empty until you train or evaluate the model.\n"
          ]
        },
        {
          "output_type": "stream",
          "name": "stdout",
          "text": [
            "\u001b[1m313/313\u001b[0m \u001b[32m━━━━━━━━━━━━━━━━━━━━\u001b[0m\u001b[37m\u001b[0m \u001b[1m1s\u001b[0m 2ms/step - accuracy: 0.9760 - loss: 0.0813\n",
            "Test accuracy on clean images: 0.9786999821662903\n"
          ]
        }
      ],
      "source": [
        "import tensorflow as tf\n",
        "from tensorflow.keras.datasets import mnist\n",
        "from tensorflow.keras.utils import to_categorical\n",
        "\n",
        "# Загрузка тестовых данных MNIST\n",
        "(_, _), (test_images, test_labels) = mnist.load_data()\n",
        "\n",
        "# Нормализация данных\n",
        "test_images = test_images / 255.0\n",
        "\n",
        "# Преобразование меток в формат one-hot\n",
        "test_labels = to_categorical(test_labels, num_classes=10)\n",
        "\n",
        "# Загрузка обученной модели\n",
        "model = tf.keras.models.load_model('mnist_model.h5')\n",
        "\n",
        "# Проверка точности модели на обычных данных\n",
        "test_loss, test_acc = model.evaluate(test_images, test_labels)\n",
        "print(f'Test accuracy on clean images: {test_acc}')\n"
      ]
    },
    {
      "cell_type": "markdown",
      "source": [
        "**Реализация атаки PGD с использованием Foolbox**\n"
      ],
      "metadata": {
        "id": "G3SG3Jbhk2qQ"
      }
    },
    {
      "cell_type": "code",
      "source": [
        "import torch\n",
        "import foolbox as fb\n",
        "import numpy as np\n",
        "import matplotlib.pyplot as plt\n",
        "\n",
        "# Инициализация Foolbox модели\n",
        "fmodel = fb.TensorFlowModel(model, bounds=(0, 1))\n",
        "\n",
        "# Выбор изображения для атаки (например, первое изображение из тестового набора)\n",
        "image = tf.convert_to_tensor(test_images[0], dtype=tf.float32)[None, ...]\n",
        "label = np.argmax(test_labels[0])\n",
        "label = tf.convert_to_tensor(label, dtype=tf.int64)\n",
        "\n",
        "# Выполнение атаки\n",
        "attack = fb.attacks.LinfPGD()\n",
        "advs, _, success = attack(fmodel, image, label[None], epsilons=0.1)\n",
        "\n",
        "# Вывод результатов\n",
        "plt.figure(figsize=(10, 5))\n",
        "plt.subplot(1, 2, 1)\n",
        "plt.title(\"Оригинальное изображение\")\n",
        "plt.imshow(image[0].numpy(), cmap=\"gray\")\n",
        "plt.axis('off')\n",
        "\n",
        "plt.subplot(1, 2, 2)\n",
        "plt.title(\"Противоречивое изображение (PGD)\")\n",
        "plt.imshow(advs[0].numpy(), cmap=\"gray\")\n",
        "plt.axis('off')\n",
        "\n",
        "plt.show()\n"
      ],
      "metadata": {
        "colab": {
          "base_uri": "https://localhost:8080/",
          "height": 411
        },
        "id": "u13XkaO6DPly",
        "outputId": "5e5d71bd-13f6-4674-b7f0-d86853fd78e8"
      },
      "execution_count": 12,
      "outputs": [
        {
          "output_type": "display_data",
          "data": {
            "text/plain": [
              "<Figure size 1000x500 with 2 Axes>"
            ],
            "image/png": "[encoded data removed]"
          },
          "metadata": {}
        }
      ]
    },
    {
      "cell_type": "markdown",
      "source": [
        "**Оценка модели на противоречивых примерах**"
      ],
      "metadata": {
        "id": "m9YqsUtZjy2a"
      }
    },
    {
      "cell_type": "code",
      "source": [
        "adversarial_images = []\n",
        "\n",
        "# Обработка изображений\n",
        "for i in range(len(test_images)):\n",
        "    image = tf.convert_to_tensor(test_images[i], dtype=tf.float32)[None, ...]\n",
        "    label = np.argmax(test_labels[i])\n",
        "    label = tf.convert_to_tensor(label, dtype=tf.int64)\n",
        "    advs, _, success = attack(fmodel, image, label[None], epsilons=0.1)\n",
        "    adversarial_images.append(advs)\n",
        "\n",
        "adversarial_images = tf.concat(adversarial_images, axis=0)\n",
        "\n",
        "adversarial_loss, adversarial_acc = model.evaluate(adversarial_images, test_labels)\n",
        "print(f'Accuracy on adversarial examples (PGD): {adversarial_acc}')\n"
      ],
      "metadata": {
        "id": "rBML7YT5DTT9",
        "colab": {
          "base_uri": "https://localhost:8080/"
        },
        "outputId": "ae56ca23-c99c-4879-cab4-1a57f06fb5f2"
      },
      "execution_count": 13,
      "outputs": [
        {
          "output_type": "stream",
          "name": "stdout",
          "text": [
            "\u001b[1m313/313\u001b[0m \u001b[32m━━━━━━━━━━━━━━━━━━━━\u001b[0m\u001b[37m\u001b[0m \u001b[1m1s\u001b[0m 2ms/step - accuracy: 0.0381 - loss: 7.8791\n",
            "Accuracy on adversarial examples (PGD): 0.051500000059604645\n"
          ]
        }
      ]
    },
    {
      "cell_type": "markdown",
      "source": [
        "**Вывод:**\n",
        "\n",
        "Точность модели снизилась с 97.8% на чистых тестовых изображениях до 5.1% на атакованных примерах, что демонстрирует её уязвимость перед атакой PGD. Эта атака, минимально изменяя входные данные, существенно снижает производительность модели, подчёркивая необходимость разработки устойчивых методов машинного обучения.\n",
        "\n",
        "Для повышения устойчивости модели можно использовать стратегии, такие как аугментация данных с противоречивыми примерами, регуляризация или adversarial training. Также важным шагом является внедрение устойчивых архитектур, способных ограничивать влияние атак, и систематическое тестирование модели на различные виды атак для повышения её надёжности, особенно в критически важных приложениях, где ошибки недопустимы."
      ],
      "metadata": {
        "id": "kiR7ueowHbwJ"
      }
    }
  ]
}